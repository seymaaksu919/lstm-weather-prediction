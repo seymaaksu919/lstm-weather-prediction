{
 "cells": [
  {
   "cell_type": "code",
   "execution_count": 1,
   "id": "738d860e-28c2-42d0-8b8d-4fb5e1066b21",
   "metadata": {},
   "outputs": [],
   "source": [
    "import pandas as pd\n",
    "import numpy as np"
   ]
  },
  {
   "cell_type": "code",
   "execution_count": 6,
   "id": "bcd91559-ee85-4431-ae08-1d7279acb21d",
   "metadata": {},
   "outputs": [
    {
     "name": "stdout",
     "output_type": "stream",
     "text": [
      "         Date  Temp\n",
      "0  1981-01-01  20.7\n",
      "1  1981-01-02  17.9\n",
      "2  1981-01-03  18.8\n",
      "3  1981-01-04  14.6\n",
      "4  1981-01-05  15.8\n"
     ]
    }
   ],
   "source": [
    "url = \"https://raw.githubusercontent.com/jbrownlee/Datasets/master/daily-min-temperatures.csv\"\n",
    "df = pd.read_csv(url)\n",
    "print(df.head())\n"
   ]
  },
  {
   "cell_type": "code",
   "execution_count": 13,
   "id": "e02fd9bd-4c80-4c64-95de-f693f8e4950c",
   "metadata": {},
   "outputs": [],
   "source": [
    "temps=df[\"Temp\"].values.reshape(-1,1) #Model için uygun giriş verisi için."
   ]
  },
  {
   "cell_type": "code",
   "execution_count": 14,
   "id": "ab40e1e0-8a22-4d3a-a4f6-0ffa7129bb3d",
   "metadata": {},
   "outputs": [
    {
     "name": "stdout",
     "output_type": "stream",
     "text": [
      "[[20.7]\n",
      " [17.9]\n",
      " [18.8]\n",
      " ...\n",
      " [13.5]\n",
      " [15.7]\n",
      " [13. ]]\n"
     ]
    }
   ],
   "source": [
    "print(temps)   "
   ]
  },
  {
   "cell_type": "code",
   "execution_count": 15,
   "id": "aeb043b9-8a0d-4c7f-a647-3ead8666c585",
   "metadata": {},
   "outputs": [],
   "source": [
    "from sklearn.preprocessing import MinMaxScaler  #Öğrenmeyi kolaylaştırmak için 0-1 aralığında sıkıştırılır.\n",
    "scaler = MinMaxScaler(feature_range=(0,1))\n",
    "scaled= scaler.fit_transform(temps)"
   ]
  },
  {
   "cell_type": "code",
   "execution_count": 17,
   "id": "369f671a-2fd0-47dc-9bd9-457c2e863558",
   "metadata": {},
   "outputs": [],
   "source": [
    "X,y= [],[]\n",
    "for i in range(len(scaled)-7): #Girdi önceki 7 günün sıcaklığına bakarak oluşturulur.\n",
    "    X.append(scaled[i:i+7])\n",
    "    y.append(scaled[i+7])   #Çıktı(y) sonraki 1 günün sıcaklığını tahmin ederek öğreniyor.\n",
    "X,y = np.array(X),np.array(y)\n",
    "    "
   ]
  },
  {
   "cell_type": "code",
   "execution_count": 26,
   "id": "60fe4a65-9fde-4aab-b296-17ed41b7fc20",
   "metadata": {},
   "outputs": [],
   "source": [
    "from tensorflow.keras.models import Sequential\n",
    "from tensorflow.keras.layers import LSTM, Dense\n",
    "\n",
    "import warnings\n",
    "warnings.filterwarnings('ignore')"
   ]
  },
  {
   "cell_type": "code",
   "execution_count": 28,
   "id": "bae87ac3-4b57-4f44-8b9a-dcf469f203f9",
   "metadata": {},
   "outputs": [],
   "source": [
    "model = Sequential()\n",
    "model.add(LSTM(50,activation = 'tanh',input_shape=(7,1)))\n"
   ]
  },
  {
   "cell_type": "code",
   "execution_count": 29,
   "id": "6b68dbb7-93ac-4020-b4c6-bf4b833af186",
   "metadata": {},
   "outputs": [],
   "source": [
    "model.add(Dense(1))"
   ]
  },
  {
   "cell_type": "code",
   "execution_count": 30,
   "id": "31294aa5-04c4-472c-87cf-7e95fac44047",
   "metadata": {},
   "outputs": [],
   "source": [
    "model.compile(optimizer='adam',loss='mse')"
   ]
  },
  {
   "cell_type": "code",
   "execution_count": 31,
   "id": "ceb0dc18-d4d0-4da6-8b28-4b03c1ff1b34",
   "metadata": {},
   "outputs": [
    {
     "name": "stdout",
     "output_type": "stream",
     "text": [
      "Epoch 1/20\n",
      "114/114 [==============================] - 2s 3ms/step - loss: 0.0339\n",
      "Epoch 2/20\n",
      "114/114 [==============================] - 0s 3ms/step - loss: 0.0122\n",
      "Epoch 3/20\n",
      "114/114 [==============================] - 0s 3ms/step - loss: 0.0119\n",
      "Epoch 4/20\n",
      "114/114 [==============================] - 0s 3ms/step - loss: 0.0114\n",
      "Epoch 5/20\n",
      "114/114 [==============================] - 0s 3ms/step - loss: 0.0112\n",
      "Epoch 6/20\n",
      "114/114 [==============================] - 0s 3ms/step - loss: 0.0109\n",
      "Epoch 7/20\n",
      "114/114 [==============================] - 0s 3ms/step - loss: 0.0107\n",
      "Epoch 8/20\n",
      "114/114 [==============================] - 0s 3ms/step - loss: 0.0104\n",
      "Epoch 9/20\n",
      "114/114 [==============================] - 0s 3ms/step - loss: 0.0102\n",
      "Epoch 10/20\n",
      "114/114 [==============================] - 0s 3ms/step - loss: 0.0099\n",
      "Epoch 11/20\n",
      "114/114 [==============================] - 0s 3ms/step - loss: 0.0096\n",
      "Epoch 12/20\n",
      "114/114 [==============================] - 0s 3ms/step - loss: 0.0094\n",
      "Epoch 13/20\n",
      "114/114 [==============================] - 0s 3ms/step - loss: 0.0092\n",
      "Epoch 14/20\n",
      "114/114 [==============================] - 0s 3ms/step - loss: 0.0091\n",
      "Epoch 15/20\n",
      "114/114 [==============================] - 0s 3ms/step - loss: 0.0090\n",
      "Epoch 16/20\n",
      "114/114 [==============================] - 0s 3ms/step - loss: 0.0089\n",
      "Epoch 17/20\n",
      "114/114 [==============================] - 0s 3ms/step - loss: 0.0089\n",
      "Epoch 18/20\n",
      "114/114 [==============================] - 0s 3ms/step - loss: 0.0088\n",
      "Epoch 19/20\n",
      "114/114 [==============================] - 0s 3ms/step - loss: 0.0089\n",
      "Epoch 20/20\n",
      "114/114 [==============================] - 0s 3ms/step - loss: 0.0088\n"
     ]
    },
    {
     "data": {
      "text/plain": [
       "<keras.src.callbacks.History at 0x719d0cc844c0>"
      ]
     },
     "execution_count": 31,
     "metadata": {},
     "output_type": "execute_result"
    }
   ],
   "source": [
    "model.fit(X,y,epochs=20,batch_size=32)"
   ]
  },
  {
   "cell_type": "code",
   "execution_count": 34,
   "id": "c50b7d42-8edf-453f-b380-ac2834b5248e",
   "metadata": {},
   "outputs": [
    {
     "name": "stdout",
     "output_type": "stream",
     "text": [
      "1/1 [==============================] - 0s 314ms/step\n",
      "Normalize edilmiş tahmin: [[0.4798076]]\n",
      "Gerçek sıcaklık tahmini: [[12.618939]]\n"
     ]
    }
   ],
   "source": [
    "last_week=scaled[-7:].reshape((1,7,1))\n",
    "pred=model.predict(last_week)\n",
    "print(\"Normalize edilmiş tahmin:\", pred)\n",
    "\n",
    "#Normalize edilmiş değeri tekrar orijinal ölçeğine çevirir.\n",
    "print(\"Gerçek sıcaklık tahmini:\", scaler.inverse_transform(pred))\n"
   ]
  },
  {
   "cell_type": "code",
   "execution_count": null,
   "id": "5dd62870-14b4-499e-b49e-46b9dfea143c",
   "metadata": {},
   "outputs": [],
   "source": []
  }
 ],
 "metadata": {
  "kernelspec": {
   "display_name": "Python (opencv_env)",
   "language": "python",
   "name": "opencv_env"
  },
  "language_info": {
   "codemirror_mode": {
    "name": "ipython",
    "version": 3
   },
   "file_extension": ".py",
   "mimetype": "text/x-python",
   "name": "python",
   "nbconvert_exporter": "python",
   "pygments_lexer": "ipython3",
   "version": "3.8.20"
  }
 },
 "nbformat": 4,
 "nbformat_minor": 5
}
